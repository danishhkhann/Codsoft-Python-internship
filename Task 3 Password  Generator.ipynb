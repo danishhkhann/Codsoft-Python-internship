{
 "cells": [
  {
   "cell_type": "code",
   "execution_count": 15,
   "id": "5f307ac6",
   "metadata": {},
   "outputs": [
    {
     "name": "stdout",
     "output_type": "stream",
     "text": [
      "Requirement already satisfied: pyperclip in c:\\users\\lenovo\\anaconda3\\lib\\site-packages (1.8.2)\n",
      "Note: you may need to restart the kernel to use updated packages.\n"
     ]
    }
   ],
   "source": [
    "\n",
    "pip install pyperclip"
   ]
  },
  {
   "cell_type": "code",
   "execution_count": 17,
   "id": "fdfc9523",
   "metadata": {},
   "outputs": [],
   "source": [
    "import random\n",
    "import string\n",
    "import tkinter as tk\n",
    "from tkinter import messagebox\n",
    "import pyperclip\n",
    "\n",
    "def generate_password(length, complexity):\n",
    "    if complexity == \"1. Easy\":\n",
    "        characters = string.ascii_letters\n",
    "    elif complexity == \"2. Medium\":\n",
    "        characters = string.ascii_letters + string.digits\n",
    "    elif complexity == \"3. Hard\":\n",
    "        characters = string.ascii_letters + string.digits + string.punctuation\n",
    "    else:\n",
    "        messagebox.showerror(\"Error\", \"Invalid complexity level choice. Please choose from options 1, 2, or 3.\")\n",
    "        return None\n",
    "\n",
    "    password = ''.join(random.choice(characters) for _ in range(length))\n",
    "    \n",
    "    return password\n",
    "\n",
    "def generate_and_copy_password():\n",
    "    length = int(length_entry.get())\n",
    "    complexity = complexity_var.get()\n",
    "    \n",
    "    password = generate_password(length, complexity)\n",
    "    if password:\n",
    "        password_entry.delete(0, tk.END)\n",
    "        password_entry.insert(0, password)\n",
    "        pyperclip.copy(password)\n",
    "        messagebox.showinfo(\"Password Generated\", \"Password copied to clipboard!\")\n",
    "\n",
    "# Create the main window\n",
    "root = tk.Tk()\n",
    "root.title(\"Password Generator\")\n",
    "\n",
    "# Length label and entry\n",
    "length_label = tk.Label(root, text=\"Password Length:\")\n",
    "length_label.grid(row=0, column=0, padx=10, pady=5)\n",
    "length_entry = tk.Entry(root)\n",
    "length_entry.grid(row=0, column=1, padx=10, pady=5)\n",
    "\n",
    "# Complexity label and dropdown\n",
    "complexity_label = tk.Label(root, text=\"Complexity Level:\")\n",
    "complexity_label.grid(row=1, column=0, padx=10, pady=5)\n",
    "complexity_var = tk.StringVar(root)\n",
    "complexity_dropdown = tk.OptionMenu(root, complexity_var, \"1. Easy\", \"2. Medium\", \"3. Hard\")\n",
    "complexity_dropdown.grid(row=1, column=1, padx=10, pady=5)\n",
    "\n",
    "# Generate button\n",
    "generate_button = tk.Button(root, text=\"Generate Password\", command=generate_and_copy_password)\n",
    "generate_button.grid(row=2, column=0, columnspan=2, padx=10, pady=5)\n",
    "\n",
    "# Generated password label and entry\n",
    "password_label = tk.Label(root, text=\"Generated Password:\")\n",
    "password_label.grid(row=3, column=0, padx=10, pady=5)\n",
    "password_entry = tk.Entry(root)\n",
    "password_entry.grid(row=3, column=1, padx=10, pady=5)\n",
    "\n",
    "# Run the Tkinter event loop\n",
    "root.mainloop()"
   ]
  },
  {
   "cell_type": "code",
   "execution_count": null,
   "id": "f8328cbb",
   "metadata": {},
   "outputs": [],
   "source": []
  },
  {
   "cell_type": "code",
   "execution_count": null,
   "id": "74e2b35f",
   "metadata": {},
   "outputs": [],
   "source": []
  }
 ],
 "metadata": {
  "kernelspec": {
   "display_name": "Python 3 (ipykernel)",
   "language": "python",
   "name": "python3"
  },
  "language_info": {
   "codemirror_mode": {
    "name": "ipython",
    "version": 3
   },
   "file_extension": ".py",
   "mimetype": "text/x-python",
   "name": "python",
   "nbconvert_exporter": "python",
   "pygments_lexer": "ipython3",
   "version": "3.11.4"
  }
 },
 "nbformat": 4,
 "nbformat_minor": 5
}
