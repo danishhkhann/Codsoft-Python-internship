{
 "cells": [
  {
   "cell_type": "code",
   "execution_count": null,
   "id": "e51159c5",
   "metadata": {},
   "outputs": [
    {
     "name": "stdout",
     "output_type": "stream",
     "text": [
      "\n",
      "+--------------+\n",
      "|  CALCULATOR  |\n",
      "+--------------+\n",
      "|  1) Add      |\n",
      "|  2) Subtract |\n",
      "|  3) Multiply |\n",
      "|  4) Divide   |\n",
      "|  5) Exit     |\n",
      "+--------------+\n",
      "\n",
      "Enter Operation:  1\n",
      "\n",
      "Enter 2 numbers:\n",
      " a = 2\n",
      " b = 5\n",
      "\n",
      " 2 + 5 = 7.00\n"
     ]
    }
   ],
   "source": [
    "class Calculator:\n",
    "    def add(self, a, b):\n",
    "        print(f\"\\n {a} + {b} = {(a+b):.2f}\")\n",
    "    def subtract(self, a, b):\n",
    "        print(f\"\\n {a} - {b} = {(a-b):.2f}\")\n",
    "    def multiply(self, a, b):\n",
    "        print(f\"\\n {a} x {b} = {(a*b):.2f}\")\n",
    "    def divide(self, a, b):\n",
    "        print(f\"\\n {a} / {b} = {(a/b):.2f}\")\n",
    "\n",
    "c = Calculator()\n",
    "while 1:\n",
    "    choice = int(input(\"\"\"\n",
    "+--------------+\n",
    "|  CALCULATOR  |\n",
    "+--------------+\n",
    "|  1) Add      |\n",
    "|  2) Subtract |\n",
    "|  3) Multiply |\n",
    "|  4) Divide   |\n",
    "|  5) Exit     |\n",
    "+--------------+\n",
    "\n",
    "Enter Operation:  \"\"\"))\n",
    "    if choice == 5:\n",
    "        print(\"\\n Thank You.\\n\")\n",
    "        break\n",
    "    \n",
    "    a = eval(input(\"\\nEnter 2 numbers:\\n a = \"))\n",
    "    b = eval(input(\" b = \"))\n",
    "    \n",
    "    if choice == 1:\n",
    "        c.add(a, b)\n",
    "        \n",
    "    elif choice == 2:\n",
    "        c.subtract(a, b)\n",
    "    \n",
    "    elif choice == 3:\n",
    "        c.multiply(a, b)\n",
    "        \n",
    "    elif choice == 4:\n",
    "        c.divide(a, b)\n",
    "\n",
    "    else:\n",
    "        print(\"\\n Some Internal Error Occured.\\nPlease try again...\\n\")\n",
    "        continue"
   ]
  },
  {
   "cell_type": "code",
   "execution_count": null,
   "id": "c8958e38",
   "metadata": {},
   "outputs": [],
   "source": []
  }
 ],
 "metadata": {
  "kernelspec": {
   "display_name": "Python 3 (ipykernel)",
   "language": "python",
   "name": "python3"
  },
  "language_info": {
   "codemirror_mode": {
    "name": "ipython",
    "version": 3
   },
   "file_extension": ".py",
   "mimetype": "text/x-python",
   "name": "python",
   "nbconvert_exporter": "python",
   "pygments_lexer": "ipython3",
   "version": "3.11.4"
  }
 },
 "nbformat": 4,
 "nbformat_minor": 5
}
